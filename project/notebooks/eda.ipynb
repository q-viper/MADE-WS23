{
 "cells": [
  {
   "cell_type": "code",
   "execution_count": null,
   "metadata": {},
   "outputs": [],
   "source": []
  },
  {
   "cell_type": "code",
   "execution_count": 1,
   "metadata": {},
   "outputs": [],
   "source": [
    "import pandas as pd\n",
    "import numpy as np\n",
    "# import matplotlib.pyplot as plt\n",
    "import sys\n",
    "sys.path.insert(0, '../')\n",
    "from utils.data_loader import DataHandler\n",
    "from utils.configs import Config, DataSource\n",
    "from pathlib import Path"
   ]
  },
  {
   "cell_type": "code",
   "execution_count": null,
   "metadata": {},
   "outputs": [],
   "source": []
  },
  {
   "cell_type": "code",
   "execution_count": 2,
   "metadata": {},
   "outputs": [
    {
     "name": "stdout",
     "output_type": "stream",
     "text": [
      "          user_name         user_location  \\\n",
      "2   Time4fisticuffs      Pewee Valley, KY   \n",
      "3       ethel mertz  Stuck in the Middle    \n",
      "4          DIPR-J&K     Jammu and Kashmir   \n",
      "5  🎹 Franz Schubert           Новоро́ссия   \n",
      "6      hr bartender       Gainesville, FL   \n",
      "\n",
      "                                    user_description         user_created  \\\n",
      "2  #Christian #Catholic #Conservative #Reagan #Re...  2009-02-28 18:57:41   \n",
      "3  #Browns #Indians #ClevelandProud #[]_[] #Cavs ...  2019-03-07 01:45:06   \n",
      "4  🖊️Official Twitter handle of Department of Inf...  2017-02-12 06:45:15   \n",
      "5  🎼  #Новоро́ссия #Novorossiya #оставайсядома #S...  2018-03-19 16:29:52   \n",
      "6  Workplace tips and advice served up in a frien...  2008-08-12 18:19:49   \n",
      "\n",
      "   user_followers  user_friends  user_favourites  user_verified  \\\n",
      "2            9275          9525             7254          False   \n",
      "3             197           987             1488          False   \n",
      "4          101009           168              101          False   \n",
      "5            1180          1071             1287          False   \n",
      "6           79956         54810             3801          False   \n",
      "\n",
      "                 date                                               text  \\\n",
      "2 2020-07-25 12:27:14     Trump never once claimed #COVID19 was a hoa...   \n",
      "3 2020-07-25 12:27:10   The one gift #COVID19 has give me is an appre...   \n",
      "4 2020-07-25 12:27:08  25 July : Media Bulletin on Novel #CoronaVirus...   \n",
      "5 2020-07-25 12:27:06  #coronavirus #covid19 deaths continue to rise....   \n",
      "6 2020-07-25 12:27:03  How #COVID19 Will Change Work in General (and ...   \n",
      "\n",
      "                            hashtags               source  is_retweet  \n",
      "2                        ['COVID19']  Twitter for Android       False  \n",
      "3                        ['COVID19']   Twitter for iPhone       False  \n",
      "4  ['CoronaVirusUpdates', 'COVID19']  Twitter for Android       False  \n",
      "5         ['coronavirus', 'covid19']      Twitter Web App       False  \n",
      "6          ['COVID19', 'Recruiting']               Buffer       False  \n",
      "Empty DataFrame\n",
      "Columns: [iso_code, continent, location, date, total_cases, new_cases, new_deaths, total_deaths, new_vaccinations, total_vaccinations, total_tests, new_tests, hosp_patients]\n",
      "Index: []\n"
     ]
    }
   ],
   "source": [
    "local_data_path = Path('D:\\Educational\\MSc\\MADE\\MADE-WS23\\data')\n",
    "config = Config(data_source=DataSource.LOCAL, local_data_path=local_data_path, clean_text_column=['text'])\n",
    "tweet_data = DataHandler(config).load_data().clean_data()\n",
    "print(tweet_data.data.head())\n",
    "\n",
    "covid_cols = [\n",
    "    \"iso_code\",\n",
    "    \"continent\",\n",
    "    \"location\",\n",
    "    \"date\",\n",
    "    \"total_cases\",\n",
    "    \"new_cases\",\n",
    "    \"new_deaths\",\n",
    "    \"total_deaths\",\n",
    "    \"new_vaccinations\",\n",
    "    \"total_vaccinations\",\n",
    "    \"total_tests\",\n",
    "    \"new_tests\",\n",
    "    \"hosp_patients\",\n",
    "]\n",
    "config = Config(\n",
    "    data_source=DataSource.LOCAL,\n",
    "    local_data_path=local_data_path,\n",
    "    data_file_name=\"owid-covid-data.csv\",\n",
    "    focus_columns=covid_cols,\n",
    "    filter_date=True,\n",
    "    \n",
    ")\n",
    "covid_data = DataHandler(config).load_data().clean_data()\n",
    "print(covid_data.data.head())"
   ]
  },
  {
   "cell_type": "code",
   "execution_count": 4,
   "metadata": {},
   "outputs": [
    {
     "data": {
      "text/plain": [
       "2            Trump never once claimed #COVID19 was a hoa...\n",
       "3          The one gift #COVID19 has give me is an appre...\n",
       "4         25 July : Media Bulletin on Novel #CoronaVirus...\n",
       "5         #coronavirus #covid19 deaths continue to rise....\n",
       "6         How #COVID19 Will Change Work in General (and ...\n",
       "                                ...                        \n",
       "179101    Wallkill school nurse adds COVID-19 monitoring...\n",
       "179102    we have reached 25mil cases of #covid19, world...\n",
       "179103    Thanks  for nominating me for the  #WearAMask ...\n",
       "179104           2020! The year of insanity! Lol! #COVID19 \n",
       "179106    More than 1,200 students test positive for #CO...\n",
       "Name: text, Length: 94458, dtype: object"
      ]
     },
     "execution_count": 4,
     "metadata": {},
     "output_type": "execute_result"
    }
   ],
   "source": [
    "tweet_data.data.text"
   ]
  },
  {
   "cell_type": "code",
   "execution_count": null,
   "metadata": {},
   "outputs": [],
   "source": []
  },
  {
   "cell_type": "code",
   "execution_count": null,
   "metadata": {},
   "outputs": [],
   "source": []
  },
  {
   "cell_type": "code",
   "execution_count": null,
   "metadata": {},
   "outputs": [],
   "source": []
  }
 ],
 "metadata": {
  "kernelspec": {
   "display_name": "venv",
   "language": "python",
   "name": "python3"
  },
  "language_info": {
   "codemirror_mode": {
    "name": "ipython",
    "version": 3
   },
   "file_extension": ".py",
   "mimetype": "text/x-python",
   "name": "python",
   "nbconvert_exporter": "python",
   "pygments_lexer": "ipython3",
   "version": "3.8.5"
  }
 },
 "nbformat": 4,
 "nbformat_minor": 2
}

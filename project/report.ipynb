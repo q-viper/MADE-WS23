{
 "cells": [
  {
   "cell_type": "markdown",
   "metadata": {},
   "source": [
    "# Introduction\n",
    "Social media has been a daily part of our life to share feelings, news, and various informations. In 2020 during the COVID-19 pandemic, the usage of social media rised significantly ([source](https://www.statista.com/topics/7863/social-media-use-during-coronavirus-covid-19-worldwide/#topicOverview)). Twitter being one of the popular social media, it is noteworthy to see if there are some correlations between people talking about COVID-19 in twitter and the status of pandemic. In this research work, we are trying to figure out such a correlations."
   ]
  },
  {
   "cell_type": "markdown",
   "metadata": {},
   "source": [
    "# Methods\n",
    "\n",
    "### Selection of datasets\n",
    "* We are using dataset named `gpreda/covid19-tweets` from Kaggle for tweet data. The reason for selecting this dataset is that there were none dataset with such records available in Kaggle.\n",
    "* We are using dataset named `owid-covid-data` from ourworldindata for covid data. The reason for selecting this dataset is that it takes various verified sources as a reference and used to update daily.\n",
    "\n",
    "### Building of Data Pipeline\n",
    "In order to build a robust pipeline, we are using Python programming language. The majors steps our pipeline follows are as follows:\n",
    "1. Credentials and URL preparations.\n",
    "2. Downloading the data and storing it in Pandas (Python library for data analysis) readable format.\n",
    "3. Data cleaning\n",
    "4. Data and storing.\n",
    "\n",
    "#### 1. Credentials and URL Preparations\n",
    "For the ease of use, we stored credentials of Kaggle as an environment variable. All the required parameters to run this pipeline was written in a single config file and it was loaded by other modules to load data, clean and so on.\n",
    "\n",
    "#### 2. Downloading the data and storing it in Pandas readable format\n",
    "After using the parameters defined in previous step, data was unzipped if necessary and then re-written locally.\n",
    "\n",
    "#### 3. Data cleaning\n",
    "Data cleaning was done in various steps.  For the COVID data:\n",
    "* First we removed unwanted columns from the COVID data. Only the wanted columns were mentioned in the pipeline config file. \n",
    "* As the COVID data contains long history of records, we only needed data from the date of tweet available and till the date of tweet available.\n",
    "\n",
    "For the tweet data:\n",
    "* As the tweets contain many noise, we did remove numbers, symbols, links, emojis, and only taken plain English as clean data.\n",
    "\n",
    "Major problem we faced was while cleaning the tweet data that we were unable to find the proper regex command to remove noises.\n",
    "\n",
    "### 4. Data and storing\n",
    "After the completion of the cleaned data, it was stored as a sqlite database locally."
   ]
  },
  {
   "cell_type": "markdown",
   "metadata": {},
   "source": [
    "# Results"
   ]
  },
  {
   "cell_type": "markdown",
   "metadata": {},
   "source": [
    "Some of the insightful results we found are in the following parts.\n",
    "\n",
    "1. Number of Tweets Per Hour \n",
    "\n",
    "![](assets/tweets_per_hour.png)\n",
    "\n",
    "2. Number of Tweets Per Source \n",
    "\n",
    "![](assets/tweets_per_device.png)\n",
    "\n",
    "3. Number of Tweets Per Weekday \n",
    "\n",
    "![](assets/tweets_per_weekday.png)\n",
    "\n",
    "4. WordCloud of Tweet Texts\n",
    "\n",
    "![](assets/tweet_wordcloud.png)\n",
    "\n",
    "5. WordCloud of Tweet Author's Bio\n",
    "\n",
    "![](assets/bio_wordcloud.png)\n",
    "\n",
    "6. New Cases and New Deaths\n",
    "![](assets/new_cases_new_deaths.png)\n",
    "\n",
    "7. New Tests and Tweets\n",
    "\n",
    "![](assets/new_tests_tweets.png)\n",
    "\n",
    "8. New Tests and Tweets\n",
    "\n",
    "![](assets/new_tests_tweets.png)\n",
    "\n",
    "9. Correlation of Number of tweets with Covid Data\n",
    "\n",
    "![](assets/corr_normal.png)\n",
    "\n",
    "\n",
    "10. Correlation: yesterday's covid data vs tweet of today\n",
    "\n",
    "![](assets/corr_m1.png)\n",
    "\n",
    "\n",
    "11. Correlation: today's covid_data vs yesterday's tweet counts\n",
    "\n",
    "![](assets/corr_1shift.png)\n"
   ]
  },
  {
   "cell_type": "markdown",
   "metadata": {},
   "source": [
    "# Conclusions\n",
    "Following results were found from the results:\n",
    "1. In the default case i.e. today's tweet vs today's covid data,\n",
    "    * Tweet count has small negative correlation with new cases. i.e. it might be that people tweeted less after increase in new cases.\n",
    "    * Tweet count has small negative correlation with new tests. i.e. it might be that people tweeted less after increase in new tests.\n",
    "2. In the correlation between today's covid_data vs yesterday's tweet counts,\n",
    "    * Tweet count has positive correlation with new cases. i.e. it might not make any sense that new cases might increase after tweet count increased yesterday.\n",
    "    * Tweet count has small negative correlation with new tests. i.e. it might be that when people tweeted a lot yesterday, number of people going for testing decreased.\n",
    "\n",
    "In overall, the assumptions were not strongly supported by the statistic we found in the data. Hence, we can claim that there is not strong correlation between people tweeting and the cases of covid, tests, and deaths.\n",
    "\n",
    "The major reason we did not see strong result might be because of lack of enough data of tweets. Currently, this research was done on nearly around month of tweet data only and if we have enough data of tweets, we might be able to see some strong patterns and correlations.\n",
    "\n",
    "For the future work, we can collect the data from different social media sources and find the correlations between the social media presence and covid data."
   ]
  }
 ],
 "metadata": {
  "language_info": {
   "name": "python"
  }
 },
 "nbformat": 4,
 "nbformat_minor": 2
}
